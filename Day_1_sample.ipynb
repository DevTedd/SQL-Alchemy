{
 "cells": [
  {
   "cell_type": "code",
   "execution_count": 1,
   "metadata": {},
   "outputs": [
    {
     "name": "stdout",
     "output_type": "stream",
     "text": [
      "2023-07-13 15:52:11,961 INFO sqlalchemy.engine.Engine BEGIN (implicit)\n",
      "2023-07-13 15:52:11,961 INFO sqlalchemy.engine.Engine PRAGMA main.table_info(\"shoppers\")\n",
      "2023-07-13 15:52:11,961 INFO sqlalchemy.engine.Engine [raw sql] ()\n",
      "2023-07-13 15:52:11,969 INFO sqlalchemy.engine.Engine PRAGMA temp.table_info(\"shoppers\")\n",
      "2023-07-13 15:52:11,969 INFO sqlalchemy.engine.Engine [raw sql] ()\n",
      "2023-07-13 15:52:11,969 INFO sqlalchemy.engine.Engine \n",
      "CREATE TABLE shoppers (\n",
      "\tid INTEGER NOT NULL, \n",
      "\tname VARCHAR(50), \n",
      "\tproduct VARCHAR(100), \n",
      "\torders INTEGER, \n",
      "\tPRIMARY KEY (id)\n",
      ")\n",
      "\n",
      "\n",
      "2023-07-13 15:52:11,974 INFO sqlalchemy.engine.Engine [no key 0.00135s] ()\n",
      "2023-07-13 15:52:11,974 INFO sqlalchemy.engine.Engine COMMIT\n",
      "dict_keys(['shoppers'])\n"
     ]
    }
   ],
   "source": [
    "from sqlalchemy import create_engine, MetaData, Table, Column, Integer, String\n",
    "\n",
    "# Create an in-memory SQLite database for testing\n",
    "engine = create_engine('sqlite:///:memory:', echo=True)\n",
    "\n",
    "# Create an empty metadata object\n",
    "metadata = MetaData()\n",
    "\n",
    "# Define the shoppers table\n",
    "shoppers_table = Table('shoppers', metadata,\n",
    "                       Column('id', Integer, primary_key=True),\n",
    "                       Column('name', String(50)),\n",
    "                       Column('product', String(100)),\n",
    "                       Column('orders', Integer)\n",
    "                       )\n",
    "\n",
    "# Create the table in the database\n",
    "metadata.create_all(engine)\n",
    "\n",
    "# Print the list of table names\n",
    "print(metadata.tables.keys())\n"
   ]
  },
  {
   "cell_type": "code",
   "execution_count": 5,
   "metadata": {},
   "outputs": [
    {
     "name": "stdout",
     "output_type": "stream",
     "text": [
      "2023-07-13 16:32:28,719 INFO sqlalchemy.engine.Engine BEGIN (implicit)\n",
      "2023-07-13 16:32:28,720 INFO sqlalchemy.engine.Engine PRAGMA main.table_info(\"shoppers\")\n",
      "2023-07-13 16:32:28,721 INFO sqlalchemy.engine.Engine [raw sql] ()\n",
      "2023-07-13 16:32:28,723 INFO sqlalchemy.engine.Engine PRAGMA temp.table_info(\"shoppers\")\n",
      "2023-07-13 16:32:28,724 INFO sqlalchemy.engine.Engine [raw sql] ()\n",
      "2023-07-13 16:32:28,726 INFO sqlalchemy.engine.Engine \n",
      "CREATE TABLE shoppers (\n",
      "\tid INTEGER NOT NULL, \n",
      "\tname VARCHAR(50), \n",
      "\tproduct VARCHAR(100), \n",
      "\torders INTEGER, \n",
      "\tPRIMARY KEY (id)\n",
      ")\n",
      "\n",
      "\n",
      "2023-07-13 16:32:28,727 INFO sqlalchemy.engine.Engine [no key 0.00079s] ()\n",
      "2023-07-13 16:32:28,728 INFO sqlalchemy.engine.Engine COMMIT\n",
      "2023-07-13 16:32:28,730 INFO sqlalchemy.engine.Engine BEGIN (implicit)\n",
      "2023-07-13 16:32:28,731 INFO sqlalchemy.engine.Engine INSERT INTO shoppers (name, product, orders) VALUES (?, ?, ?)\n",
      "2023-07-13 16:32:28,732 INFO sqlalchemy.engine.Engine [generated in 0.00107s] ('John Smith', 'Shirt', 4)\n",
      "2023-07-13 16:32:28,733 INFO sqlalchemy.engine.Engine INSERT INTO shoppers (name, product, orders) VALUES (?, ?, ?)\n",
      "2023-07-13 16:32:28,734 INFO sqlalchemy.engine.Engine [cached since 0.003159s ago] ('Jane Doe', 'Jeans', 2)\n",
      "2023-07-13 16:32:28,735 INFO sqlalchemy.engine.Engine INSERT INTO shoppers (name, product, orders) VALUES (?, ?, ?)\n",
      "2023-07-13 16:32:28,736 INFO sqlalchemy.engine.Engine [cached since 0.004599s ago] ('Michael Johnson', 'Shoes', 5)\n",
      "2023-07-13 16:32:28,737 INFO sqlalchemy.engine.Engine INSERT INTO shoppers (name, product, orders) VALUES (?, ?, ?)\n",
      "2023-07-13 16:32:28,738 INFO sqlalchemy.engine.Engine [cached since 0.007116s ago] ('Emily Davis', 'Shoes', 2)\n",
      "2023-07-13 16:32:28,740 INFO sqlalchemy.engine.Engine INSERT INTO shoppers (name, product, orders) VALUES (?, ?, ?)\n",
      "2023-07-13 16:32:28,741 INFO sqlalchemy.engine.Engine [cached since 0.01004s ago] ('David Wilson', 'Shoes', 6)\n",
      "2023-07-13 16:32:28,744 INFO sqlalchemy.engine.Engine INSERT INTO shoppers (name, product, orders) VALUES (?, ?, ?)\n",
      "2023-07-13 16:32:28,745 INFO sqlalchemy.engine.Engine [cached since 0.01416s ago] ('Olivia Thompson', 'Shoes', 5)\n",
      "2023-07-13 16:32:28,747 INFO sqlalchemy.engine.Engine INSERT INTO shoppers (name, product, orders) VALUES (?, ?, ?)\n",
      "2023-07-13 16:32:28,747 INFO sqlalchemy.engine.Engine [cached since 0.01625s ago] ('James Anderson', 'Shoes', 7)\n",
      "2023-07-13 16:32:28,749 INFO sqlalchemy.engine.Engine INSERT INTO shoppers (name, product, orders) VALUES (?, ?, ?)\n",
      "2023-07-13 16:32:28,750 INFO sqlalchemy.engine.Engine [cached since 0.01857s ago] ('Sophia Rodriguez', 'Shoes', 2)\n",
      "2023-07-13 16:32:28,750 INFO sqlalchemy.engine.Engine INSERT INTO shoppers (name, product, orders) VALUES (?, ?, ?)\n",
      "2023-07-13 16:32:28,751 INFO sqlalchemy.engine.Engine [cached since 0.0203s ago] ('Ethan Lee', 'Shoes', 6)\n",
      "2023-07-13 16:32:28,752 INFO sqlalchemy.engine.Engine INSERT INTO shoppers (name, product, orders) VALUES (?, ?, ?)\n",
      "2023-07-13 16:32:28,753 INFO sqlalchemy.engine.Engine [cached since 0.02237s ago] ('Ava Martinez', 'Shoes', 5)\n",
      "2023-07-13 16:32:28,755 INFO sqlalchemy.engine.Engine COMMIT\n",
      "2023-07-13 16:32:28,756 INFO sqlalchemy.engine.Engine BEGIN (implicit)\n",
      "2023-07-13 16:32:28,757 INFO sqlalchemy.engine.Engine SELECT shoppers.id, shoppers.name, shoppers.product, shoppers.orders \n",
      "FROM shoppers\n",
      "2023-07-13 16:32:28,758 INFO sqlalchemy.engine.Engine [generated in 0.00061s] ()\n",
      "(1, 'John Smith', 'Shirt', 4)\n",
      "(2, 'Jane Doe', 'Jeans', 2)\n",
      "(3, 'Michael Johnson', 'Shoes', 5)\n",
      "(4, 'Emily Davis', 'Shoes', 2)\n",
      "(5, 'David Wilson', 'Shoes', 6)\n",
      "(6, 'Olivia Thompson', 'Shoes', 5)\n",
      "(7, 'James Anderson', 'Shoes', 7)\n",
      "(8, 'Sophia Rodriguez', 'Shoes', 2)\n",
      "(9, 'Ethan Lee', 'Shoes', 6)\n",
      "(10, 'Ava Martinez', 'Shoes', 5)\n"
     ]
    }
   ],
   "source": [
    "from sqlalchemy import create_engine, MetaData, Table, Column, Integer, String\n",
    "from sqlalchemy.orm import sessionmaker\n",
    "import random\n",
    "\n",
    "# Create an in-memory SQLite database for testing\n",
    "engine = create_engine('sqlite:///:memory:', echo=True)\n",
    "\n",
    "# Create an empty metadata object\n",
    "metadata = MetaData()\n",
    "\n",
    "# Define the shoppers table\n",
    "shoppers_table = Table('shoppers', metadata,\n",
    "                       Column('id', Integer, primary_key=True),\n",
    "                       Column('name', String(50)),\n",
    "                       Column('product', String(100)),\n",
    "                       Column('orders', Integer)\n",
    "                       )\n",
    "\n",
    "# Create the table in the database\n",
    "metadata.create_all(engine)\n",
    "\n",
    "# Create a session\n",
    "Session = sessionmaker(bind=engine)\n",
    "session = Session()\n",
    "\n",
    "# Generate and insert sample data\n",
    "sample_data = [\n",
    "    {'name': 'John Smith', 'product': 'Shirt', 'orders': random.randint(1, 10)},\n",
    "    {'name': 'Jane Doe', 'product': 'Jeans', 'orders': random.randint(1, 10)},\n",
    "    {'name': 'Michael Johnson', 'product': 'Shoes', 'orders': random.randint(1, 10)},\n",
    "    {'name': 'Emily Davis', 'product': 'Shoes', 'orders': random.randint(1, 10)},\n",
    "    {'name': 'David Wilson', 'product': 'Shoes', 'orders': random.randint(1, 10)},\n",
    "    {'name': 'Olivia Thompson', 'product': 'Shoes', 'orders': random.randint(1, 10)},\n",
    "    {'name': 'James Anderson', 'product': 'Shoes', 'orders': random.randint(1, 10)},\n",
    "    {'name': 'Sophia Rodriguez', 'product': 'Shoes', 'orders': random.randint(1, 10)},\n",
    "    {'name': 'Ethan Lee', 'product': 'Shoes', 'orders': random.randint(1, 10)},\n",
    "    {'name': 'Ava Martinez', 'product': 'Shoes', 'orders': random.randint(1, 10)}\n",
    " \n",
    "    # Add more rows as needed\n",
    "]\n",
    "\n",
    "for data in sample_data:\n",
    "    shopper = shoppers_table.insert().values(**data)\n",
    "    session.execute(shopper)\n",
    "\n",
    "# Commit the changes to the database\n",
    "session.commit()\n",
    "\n",
    "# Query and print the data from the shoppers table\n",
    "select_query = shoppers_table.select()\n",
    "result = session.execute(select_query)\n",
    "\n",
    "for row in result:\n",
    "    print(row)\n",
    "\n",
    "# Close the session and connection\n",
    "\n"
   ]
  },
  {
   "cell_type": "code",
   "execution_count": 9,
   "metadata": {},
   "outputs": [
    {
     "data": {
      "text/plain": [
       "Table('users', MetaData(), schema=None)"
      ]
     },
     "execution_count": 9,
     "metadata": {},
     "output_type": "execute_result"
    }
   ],
   "source": [
    "names = Table('users',metadata)\n",
    "products = Table('products',metadata)\n",
    "orders = Table('orders',metadata)\n",
    "names"
   ]
  },
  {
   "cell_type": "code",
   "execution_count": null,
   "metadata": {},
   "outputs": [],
   "source": []
  }
 ],
 "metadata": {
  "kernelspec": {
   "display_name": "Python 3",
   "language": "python",
   "name": "python3"
  },
  "language_info": {
   "codemirror_mode": {
    "name": "ipython",
    "version": 3
   },
   "file_extension": ".py",
   "mimetype": "text/x-python",
   "name": "python",
   "nbconvert_exporter": "python",
   "pygments_lexer": "ipython3",
   "version": "3.11.4"
  },
  "orig_nbformat": 4
 },
 "nbformat": 4,
 "nbformat_minor": 2
}
